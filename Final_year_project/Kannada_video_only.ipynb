{
 "cells": [
  {
   "cell_type": "markdown",
   "metadata": {
    "id": "v0ivTJcbfhcU"
   },
   "source": [
    "# LSTM Video Classification"
   ]
  },
  {
   "cell_type": "code",
   "execution_count": 193,
   "metadata": {
    "id": "ALjKo2rYfhcY"
   },
   "outputs": [],
   "source": [
    "from numpy import array\n",
    "from keras.preprocessing.text import one_hot\n",
    "from keras.preprocessing.sequence import pad_sequences\n",
    "from keras.models import Sequential\n",
    "from keras.layers.core import Activation, Dropout, Dense\n",
    "from keras.layers import Flatten, LSTM\n",
    "from keras.layers import GlobalMaxPooling1D\n",
    "from keras.models import Model\n",
    "from keras.layers.embeddings import Embedding\n",
    "from sklearn.model_selection import train_test_split\n",
    "from keras.preprocessing.text import Tokenizer\n",
    "from keras.layers import Input\n",
    "from keras.layers.merge import Concatenate\n",
    "from keras.layers import Bidirectional\n",
    "from keras import optimizers\n",
    "from keras.layers import TimeDistributed\n",
    "from time import time\n",
    "from keras.callbacks import TensorBoard\n",
    "\n",
    "import pandas as pd\n",
    "import numpy as np\n",
    "import re\n",
    "\n",
    "import matplotlib.pyplot as plt"
   ]
  },
  {
   "cell_type": "code",
   "execution_count": 143,
   "metadata": {
    "id": "1slr2HdIfhcg"
   },
   "outputs": [],
   "source": [
    "from numpy.random import RandomState\n",
    "import pandas as pd\n",
    "df = pd.read_csv(r'avsr_test_data_v1.csv')\n",
    "df = df.fillna(0)\n",
    "rng = RandomState()\n",
    "train = df.sample(frac=0.7, random_state=rng)\n",
    "test = df.sample(frac=0.3, random_state=rng)"
   ]
  },
  {
   "cell_type": "code",
   "execution_count": 144,
   "metadata": {
    "colab": {
     "base_uri": "https://localhost:8080/",
     "height": 34
    },
    "id": "K8s9blmjfhco",
    "outputId": "91472cc2-2959-440c-c680-0e98fbb2d5d9"
   },
   "outputs": [
    {
     "data": {
      "text/plain": [
       "(471, 234)"
      ]
     },
     "execution_count": 144,
     "metadata": {},
     "output_type": "execute_result"
    }
   ],
   "source": [
    "train.shape"
   ]
  },
  {
   "cell_type": "code",
   "execution_count": 145,
   "metadata": {
    "id": "RC21Chh6fhc7"
   },
   "outputs": [],
   "source": [
    "Y_Train = train['label']\n",
    "Y_train = np.array(Y_Train)"
   ]
  },
  {
   "cell_type": "code",
   "execution_count": 146,
   "metadata": {
    "id": "_Kc2y8NBfhdB"
   },
   "outputs": [],
   "source": [
    "Y_Test  = test['label']\n",
    "Y_test = np.array(Y_Test)"
   ]
  },
  {
   "cell_type": "code",
   "execution_count": 147,
   "metadata": {
    "colab": {
     "base_uri": "https://localhost:8080/",
     "height": 221
    },
    "id": "peUw2jVCfhdI",
    "outputId": "add1a38c-8a5c-4886-bcb0-02c0ba09795b"
   },
   "outputs": [
    {
     "data": {
      "text/plain": [
       "639    6\n",
       "490    0\n",
       "153    7\n",
       "509    0\n",
       "4      2\n",
       "      ..\n",
       "237    6\n",
       "33     6\n",
       "650    3\n",
       "268    4\n",
       "155    2\n",
       "Name: label, Length: 202, dtype: int64"
      ]
     },
     "execution_count": 147,
     "metadata": {},
     "output_type": "execute_result"
    }
   ],
   "source": [
    "Y_Test"
   ]
  },
  {
   "cell_type": "code",
   "execution_count": 148,
   "metadata": {
    "id": "IDS6xn9hfhdO"
   },
   "outputs": [],
   "source": [
    "X_train = train.drop(['label'], axis=1)\n",
    "for x in range(40,233):\n",
    "    X_train = X_train.drop([str(x)], axis=1)\n",
    "X_train = np.array(X_train)"
   ]
  },
  {
   "cell_type": "code",
   "execution_count": 149,
   "metadata": {
    "id": "mX47VM6WfhdT"
   },
   "outputs": [],
   "source": [
    "X_test = test.drop(['label'], axis=1)\n",
    "for x in range(40,233):\n",
    "    X_test = X_test.drop([str(x)], axis=1)\n",
    "X_test = np.array(X_test)"
   ]
  },
  {
   "cell_type": "code",
   "execution_count": 150,
   "metadata": {},
   "outputs": [
    {
     "name": "stdout",
     "output_type": "stream",
     "text": [
      "{1: 21, 4: 22, 7: 23, 3: 24, 6: 25, 5: 25, 2: 27, 0: 35}\n",
      "y_tr1 rows, cols = 471\n",
      "y_val1 rows, cols = 202\n",
      "x_tr rows, cols = 471 40\n",
      "x_val rows, cols = 202 40\n",
      "[201, 200, 199, 198, 197, 196, 195, 194, 193, 191, 190, 189, 186, 185, 183, 181, 178, 177, 168, 163, 160, 159, 156, 153, 150, 140, 130, 123, 122, 117, 115, 99, 95, 87]\n",
      "505 471 505 471\n",
      "168 202 168 202\n"
     ]
    }
   ],
   "source": [
    "dct = dict()\n",
    "for i in Y_test:\n",
    "    dct[i] = dct.get(i,0) + 1\n",
    "print(dict(sorted(dct.items(), key=lambda item: item[1])))\n",
    "\n",
    "print(\"y_tr1 rows, cols =\", len(Y_train))\n",
    "print(\"y_val1 rows, cols =\", len(Y_test))\n",
    "print(\"x_tr rows, cols =\", len(X_train), len(X_train[0]))\n",
    "print(\"x_val rows, cols =\", len(X_test), len(X_test[0]))\n",
    "\n",
    "# print(\"y_val1 =\",y_val1)\n",
    "x_train_dup = X_train\n",
    "y_train_dup = Y_train\n",
    "\n",
    "x_val_dup = X_test\n",
    "y_val_dup = Y_test\n",
    "\n",
    "# x_train_list = list(list())\n",
    "# for i in range(0,len(x_tr)):\n",
    "#     tmp = list()\n",
    "#     for j in range(0,len(x_tr[i])):\n",
    "#         tmp.append(x_tr[i][j])\n",
    "#     x_train_list.append(tmp)\n",
    "    \n",
    "# print(x_train_list)\n",
    "# print(x_tr)\n",
    "\n",
    "\n",
    "\n",
    "dct = dict()\n",
    "for i in range(0,9):\n",
    "    count = 0\n",
    "    tmp = list()\n",
    "    for j in range(0, len(Y_test)):\n",
    "        if(Y_test[j] == i):\n",
    "            count +=1;\n",
    "        if(count > 21 and Y_test[j] == i):\n",
    "            x_train_dup = np.vstack([x_train_dup, x_val_dup[j]])\n",
    "            y_train_dup = np.append(y_train_dup, Y_test[j])\n",
    "            \n",
    "            tmp.append(j)\n",
    "    dct[i] = tmp\n",
    "\n",
    "# print(len(x_train_dup), len(x_tr), len(y_train_dup), len(y_tr1))\n",
    "# print(len(x_val_dup), len(x_val), len(y_val_dup), len(y_val1))\n",
    "# #print(dct)\n",
    "#print(dct.values())\n",
    "index_list = list()\n",
    "for i in dct.values():\n",
    "    for j in i:\n",
    "        index_list.append(j)\n",
    "index_list.sort(reverse=True)\n",
    "print(index_list)\n",
    "for i in index_list:\n",
    "    x_val_dup = np.delete(x_val_dup, (i), axis=0)\n",
    "    y_val_dup = np.delete(y_val_dup, (i), axis=0)\n",
    "   # Y_test.pop(i)\n",
    "print(len(x_train_dup), len(X_train), len(y_train_dup), len(Y_train))\n",
    "print(len(x_val_dup), len(X_test), len(y_val_dup), len(Y_test))"
   ]
  },
  {
   "cell_type": "code",
   "execution_count": 151,
   "metadata": {
    "id": "hv3Mjm_1fhdk"
   },
   "outputs": [],
   "source": [
    "import numpy as np\n",
    "v = np.array(x_train_dup)"
   ]
  },
  {
   "cell_type": "code",
   "execution_count": 152,
   "metadata": {
    "id": "wBg1OPmnfhdq"
   },
   "outputs": [],
   "source": [
    "v=v.reshape(505*8,5)"
   ]
  },
  {
   "cell_type": "code",
   "execution_count": 153,
   "metadata": {
    "id": "sJ05GmvDfhd3"
   },
   "outputs": [],
   "source": [
    "v = np.array(v)\n",
    "v=v.reshape(505,8,5)"
   ]
  },
  {
   "cell_type": "code",
   "execution_count": 154,
   "metadata": {
    "id": "8hfdrdFpfhd8"
   },
   "outputs": [],
   "source": [
    "X_train = v"
   ]
  },
  {
   "cell_type": "code",
   "execution_count": 155,
   "metadata": {
    "colab": {
     "base_uri": "https://localhost:8080/",
     "height": 34
    },
    "id": "riQk4PmkfheC",
    "outputId": "b9d9d42a-837b-488b-f74a-e297ad2ef30b"
   },
   "outputs": [
    {
     "data": {
      "text/plain": [
       "(1344, 5)"
      ]
     },
     "execution_count": 155,
     "metadata": {},
     "output_type": "execute_result"
    }
   ],
   "source": [
    "v = np.array(x_val_dup)\n",
    "v=v.reshape(168*8,5)\n",
    "v = pd.DataFrame(v)\n",
    "#v.drop(v.columns[[11,12,13,14]],axis=1,inplace=True)\n",
    "X_test = np.array(X_test)\n",
    "X_test=v\n",
    "X_test.shape"
   ]
  },
  {
   "cell_type": "code",
   "execution_count": 156,
   "metadata": {
    "id": "kxfGTvD_fheH"
   },
   "outputs": [],
   "source": [
    "X_train = np.array(X_train)\n",
    "X_train = X_train.reshape(505*8,5)"
   ]
  },
  {
   "cell_type": "code",
   "execution_count": 157,
   "metadata": {
    "id": "j46lNamjfheM"
   },
   "outputs": [],
   "source": [
    "X_test = np.array(X_test)\n",
    "X_test=X_test.reshape(168*8,5)"
   ]
  },
  {
   "cell_type": "code",
   "execution_count": 158,
   "metadata": {
    "colab": {
     "base_uri": "https://localhost:8080/",
     "height": 68
    },
    "id": "k_dfZiswfheV",
    "outputId": "226754b1-5c27-4f9c-b250-53d6ac4ec925"
   },
   "outputs": [
    {
     "data": {
      "text/plain": [
       "array([1.07500005, 1.47599995, 1.50399995, 1.25399995, 1.38300002])"
      ]
     },
     "execution_count": 158,
     "metadata": {},
     "output_type": "execute_result"
    }
   ],
   "source": [
    "X_train[0]"
   ]
  },
  {
   "cell_type": "code",
   "execution_count": 159,
   "metadata": {
    "id": "FsUDK3tZfhef"
   },
   "outputs": [],
   "source": [
    "dat_fi=np.array([])\n",
    "for a in range(4040):\n",
    "    for b in range(5):\n",
    "        if b==0:\n",
    "            first =  X_train[a][b]\n",
    "        else:\n",
    "            second = X_train[a][b]\n",
    "            ec = first - second\n",
    "            dat_fi = np.append(dat_fi,ec,axis=None)\n",
    "            first =second\n",
    "            \n",
    "dat_fj = np.array([])\n",
    "for c in range(1344):\n",
    "    for b in range(5):\n",
    "        if b==0:\n",
    "            first =  X_test[c][b]\n",
    "        else:\n",
    "            second = X_test[c][b]\n",
    "            ec = first - second\n",
    "            dat_fj = np.append(dat_fj,ec,axis=None)\n",
    "            first =second"
   ]
  },
  {
   "cell_type": "code",
   "execution_count": 160,
   "metadata": {
    "id": "O_JWPwuOfhek"
   },
   "outputs": [],
   "source": [
    "X_train = dat_fi.reshape(505,8,4)"
   ]
  },
  {
   "cell_type": "code",
   "execution_count": 161,
   "metadata": {
    "id": "z4l9cq72fher"
   },
   "outputs": [],
   "source": [
    "X_test = dat_fj.reshape(168,8,4)"
   ]
  },
  {
   "cell_type": "code",
   "execution_count": 162,
   "metadata": {
    "colab": {
     "base_uri": "https://localhost:8080/",
     "height": 51
    },
    "id": "kX-gd4zHfhew",
    "outputId": "33126066-a6fd-4cbc-ed9d-13d4f8069900"
   },
   "outputs": [
    {
     "data": {
      "text/plain": [
       "array([-0.4009999 , -0.028     ,  0.25      , -0.12900007])"
      ]
     },
     "execution_count": 162,
     "metadata": {},
     "output_type": "execute_result"
    }
   ],
   "source": [
    "X_train[0][0]"
   ]
  },
  {
   "cell_type": "code",
   "execution_count": 163,
   "metadata": {
    "id": "mMR9MJA8fhe1"
   },
   "outputs": [],
   "source": [
    "Y_train = np.array(y_train_dup)"
   ]
  },
  {
   "cell_type": "code",
   "execution_count": 164,
   "metadata": {
    "colab": {
     "base_uri": "https://localhost:8080/",
     "height": 34
    },
    "id": "3b58Bwwxfhe6",
    "outputId": "9aaeb7bb-d527-4689-ac6a-c95bab1e8836"
   },
   "outputs": [
    {
     "data": {
      "text/plain": [
       "(505,)"
      ]
     },
     "execution_count": 164,
     "metadata": {},
     "output_type": "execute_result"
    }
   ],
   "source": [
    "Y_train.shape"
   ]
  },
  {
   "cell_type": "code",
   "execution_count": 165,
   "metadata": {
    "id": "Ep_yU1Iafhe_"
   },
   "outputs": [],
   "source": [
    "Y_test = np.array(y_val_dup)"
   ]
  },
  {
   "cell_type": "code",
   "execution_count": 166,
   "metadata": {
    "colab": {
     "base_uri": "https://localhost:8080/",
     "height": 170
    },
    "id": "sZn7hYUzfhfF",
    "outputId": "d5e14e66-c78f-4596-9152-1152c9f21e5c"
   },
   "outputs": [
    {
     "data": {
      "text/plain": [
       "array([6, 0, 7, 0, 2, 0, 7, 5, 2, 6, 3, 1, 5, 2, 2, 6, 1, 3, 6, 2, 5, 0,\n",
       "       2, 1, 3, 0, 1, 0, 6, 0, 3, 1, 6, 0, 1, 4, 6, 4, 5, 0, 4, 0, 2, 1,\n",
       "       0, 2, 7, 7, 6, 5, 0, 3, 4, 5, 3, 0, 1, 5, 6, 5, 4, 7, 0, 7, 2, 7,\n",
       "       2, 3, 1, 2, 4, 6, 4, 7, 0, 4, 0, 2, 0, 0, 2, 0, 5, 0, 3, 7, 0, 7,\n",
       "       1, 2, 1, 1, 4, 2, 1, 6, 5, 6, 6, 4, 5, 2, 1, 7, 4, 7, 4, 3, 5, 3,\n",
       "       5, 2, 1, 3, 4, 4, 4, 5, 4, 1, 6, 7, 7, 5, 4, 6, 2, 3, 7, 3, 1, 6,\n",
       "       7, 1, 3, 2, 2, 7, 2, 5, 5, 5, 1, 6, 5, 4, 7, 1, 7, 3, 6, 4, 5, 3,\n",
       "       7, 3, 3, 3, 5, 6, 3, 4, 6, 6, 7, 4, 3, 1])"
      ]
     },
     "execution_count": 166,
     "metadata": {},
     "output_type": "execute_result"
    }
   ],
   "source": [
    "Y_test"
   ]
  },
  {
   "cell_type": "code",
   "execution_count": 167,
   "metadata": {
    "id": "Yx7cOb1lfhfK"
   },
   "outputs": [],
   "source": [
    "from sklearn.preprocessing import LabelEncoder\n",
    "lb_make = LabelEncoder()\n",
    "Y_train = lb_make.fit_transform(Y_train)\n",
    "Y_test = lb_make.fit_transform(Y_test)"
   ]
  },
  {
   "cell_type": "code",
   "execution_count": 168,
   "metadata": {
    "colab": {
     "base_uri": "https://localhost:8080/",
     "height": 34
    },
    "id": "XHTTI0yUfhfP",
    "outputId": "7341438a-91d5-4241-e694-20cdefbbe743"
   },
   "outputs": [
    {
     "data": {
      "text/plain": [
       "(505, 8)"
      ]
     },
     "execution_count": 168,
     "metadata": {},
     "output_type": "execute_result"
    }
   ],
   "source": [
    "from keras.utils import to_categorical\n",
    "\n",
    "Y_train = to_categorical(Y_train)\n",
    "Y_test = to_categorical(Y_test)\n",
    "Y_train.shape\n"
   ]
  },
  {
   "cell_type": "code",
   "execution_count": 182,
   "metadata": {
    "id": "fVaQuDhKfhfU"
   },
   "outputs": [],
   "source": [
    "from keras.layers.normalization import BatchNormalization\n",
    "#callbacks1 = [callbacks11,callbacks21]\n",
    "model1 = Sequential()\n",
    "\n",
    "model1.add(LSTM(128,input_shape=(8,4),return_sequences=True,activation='relu'))\n",
    "model1.add(BatchNormalization())\n",
    "model1.add(Dropout(0.3))\n",
    "model1.add(LSTM(256,activation='relu'))\n",
    "model1.add(BatchNormalization())\n",
    "model1.add(Dropout(0.3))\n",
    "model1.add(Dense(512))\n",
    "model1.add(Dropout(0.4))\n",
    "model1.add(Dense(1024))\n",
    "model1.add(Dense(8,activation='softmax'))\n",
    "\n",
    "\n",
    "# model1 = Sequential()\n",
    "\n",
    "# model1.add(LSTM(128,input_shape=(8,4),return_sequences=True,activation='relu'))\n",
    "# model1.add(BatchNormalization())\n",
    "# model1.add(Dropout(0.3))\n",
    "# model1.add(LSTM(256,activation='relu'))\n",
    "# model1.add(BatchNormalization())\n",
    "# model1.add(Dropout(0.275))\n",
    "# model1.add(Dense(1024,activation='relu'))\n",
    "# model1.add(BatchNormalization())\n",
    "# model1.add(Dropout(0.3))\n",
    "# model1.add(Dense(512,activation='relu'))\n",
    "# model1.add(BatchNormalization())\n",
    "# model1.add(Dropout(0.3))\n",
    "# model1.add(Dense(64,activation='relu'))\n",
    "# model1.add(BatchNormalization())\n",
    "# model1.add(Dropout(0.3))\n",
    "# model1.add(Dense(8,activation='softmax'))\n",
    "\n",
    "# input_video = Input(shape=(8,4))\n",
    "# y = LSTM(128,input_shape=(8,4),return_sequences=True,activation='relu')(input_video)\n",
    "\n",
    "# #y = Dense(512, activation='relu')(y)\n",
    "# y1 = BatchNormalization(axis=-1,momentum=0.99,epsilon=0.001,center=True,scale=True,beta_initializer=\"zeros\",gamma_initializer=\"ones\",moving_mean_initializer=\"zeros\",moving_variance_initializer=\"ones\",beta_regularizer=None,gamma_regularizer=None,beta_constraint=None,gamma_constraint=None,renorm=False,renorm_clipping=None,renorm_momentum=0.99,fused=None,trainable=True,virtual_batch_size=None, adjustment=None, name=None)(y)\n",
    "# y1 = Dropout(0.4)(y1)\n",
    "# y1 = LSTM(256,activation='relu')(y1)\n",
    "# #y1 = BatchNormalization(axis=-1,momentum=0.99,epsilon=0.001,center=True,scale=True,beta_initializer=\"zeros\",gamma_initializer=\"ones\",moving_mean_initializer=\"zeros\",moving_variance_initializer=\"ones\",beta_regularizer=None,gamma_regularizer=None,beta_constraint=None,gamma_constraint=None,renorm=False,renorm_clipping=None,renorm_momentum=0.99,fused=None,trainable=True,virtual_batch_size=None, adjustment=None, name=None)(y1)\n",
    "# y1 = Dropout(0.4)(y1)\n",
    "# y1 = Dense(512, activation='relu')(y1)\n",
    "# y1 = Dense(8, activation='softmax')(y1)\n",
    "# model1 = Model(inputs=input_video, outputs=y1)"
   ]
  },
  {
   "cell_type": "code",
   "execution_count": 183,
   "metadata": {
    "id": "xaGtfvuSD285"
   },
   "outputs": [],
   "source": [
    "tensorboard = TensorBoard(log_dir=\"logs/{}\".format(time()))"
   ]
  },
  {
   "cell_type": "code",
   "execution_count": 184,
   "metadata": {
    "colab": {
     "base_uri": "https://localhost:8080/",
     "height": 408
    },
    "id": "S1MeoPs3fhfY",
    "outputId": "79bb0a76-780e-4e97-ba08-4e1490977fea"
   },
   "outputs": [
    {
     "name": "stdout",
     "output_type": "stream",
     "text": [
      "Model: \"sequential_10\"\n",
      "_________________________________________________________________\n",
      "Layer (type)                 Output Shape              Param #   \n",
      "=================================================================\n",
      "lstm_27 (LSTM)               (None, 8, 128)            68096     \n",
      "_________________________________________________________________\n",
      "batch_normalization_29 (Batc (None, 8, 128)            512       \n",
      "_________________________________________________________________\n",
      "dropout_40 (Dropout)         (None, 8, 128)            0         \n",
      "_________________________________________________________________\n",
      "lstm_28 (LSTM)               (None, 256)               394240    \n",
      "_________________________________________________________________\n",
      "batch_normalization_30 (Batc (None, 256)               1024      \n",
      "_________________________________________________________________\n",
      "dropout_41 (Dropout)         (None, 256)               0         \n",
      "_________________________________________________________________\n",
      "dense_38 (Dense)             (None, 512)               131584    \n",
      "_________________________________________________________________\n",
      "dropout_42 (Dropout)         (None, 512)               0         \n",
      "_________________________________________________________________\n",
      "dense_39 (Dense)             (None, 1024)              525312    \n",
      "_________________________________________________________________\n",
      "dense_40 (Dense)             (None, 8)                 8200      \n",
      "=================================================================\n",
      "Total params: 1,128,968\n",
      "Trainable params: 1,128,200\n",
      "Non-trainable params: 768\n",
      "_________________________________________________________________\n",
      "None\n"
     ]
    }
   ],
   "source": [
    "model1.compile(optimizer='adam',loss='categorical_crossentropy',metrics=['accuracy'])\n",
    "print(model1.summary())"
   ]
  },
  {
   "cell_type": "code",
   "execution_count": 172,
   "metadata": {},
   "outputs": [
    {
     "data": {
      "image/png": "[encoded data removed]",
      "text/plain": [
       "<IPython.core.display.Image object>"
      ]
     },
     "execution_count": 172,
     "metadata": {},
     "output_type": "execute_result"
    }
   ],
   "source": [
    "from keras.utils import plot_model\n",
    "plot_model(model1, to_file='Video_model_plot_Kannada.png', show_shapes=True, show_layer_names=True)"
   ]
  },
  {
   "cell_type": "code",
   "execution_count": 185,
   "metadata": {
    "colab": {
     "base_uri": "https://localhost:8080/",
     "height": 391
    },
    "id": "eQNpmeGd7awo",
    "outputId": "f2a08269-d45e-407c-afb5-43ba6f2809ba"
   },
   "outputs": [
    {
     "name": "stdout",
     "output_type": "stream",
     "text": [
      "Epoch 1/70\n",
      "16/16 [==============================] - 3s 80ms/step - loss: 3.2681 - accuracy: 0.1698 - val_loss: 2.0785 - val_accuracy: 0.1250\n",
      "Epoch 2/70\n",
      "16/16 [==============================] - 1s 53ms/step - loss: 3.0440 - accuracy: 0.2399 - val_loss: 2.0881 - val_accuracy: 0.1250\n",
      "Epoch 3/70\n",
      "16/16 [==============================] - 1s 41ms/step - loss: 3.0169 - accuracy: 0.2471 - val_loss: 2.1048 - val_accuracy: 0.1548\n",
      "Epoch 4/70\n",
      "16/16 [==============================] - 1s 42ms/step - loss: 2.9052 - accuracy: 0.2046 - val_loss: 2.1142 - val_accuracy: 0.1310\n",
      "Epoch 5/70\n",
      "16/16 [==============================] - 1s 41ms/step - loss: 2.6874 - accuracy: 0.2528 - val_loss: 2.1054 - val_accuracy: 0.1250\n",
      "Epoch 6/70\n",
      "16/16 [==============================] - 1s 40ms/step - loss: 2.6432 - accuracy: 0.2326 - val_loss: 2.1146 - val_accuracy: 0.1667\n",
      "Epoch 7/70\n",
      "16/16 [==============================] - 1s 42ms/step - loss: 2.2831 - accuracy: 0.2663 - val_loss: 2.1301 - val_accuracy: 0.1250\n",
      "Epoch 8/70\n",
      "16/16 [==============================] - 1s 42ms/step - loss: 2.4782 - accuracy: 0.2250 - val_loss: 2.1473 - val_accuracy: 0.1250\n",
      "Epoch 9/70\n",
      "16/16 [==============================] - 1s 41ms/step - loss: 2.1822 - accuracy: 0.3001 - val_loss: 2.2166 - val_accuracy: 0.1250\n",
      "Epoch 10/70\n",
      "16/16 [==============================] - 1s 41ms/step - loss: 1.9919 - accuracy: 0.3511 - val_loss: 2.1339 - val_accuracy: 0.1250\n",
      "Epoch 11/70\n",
      "16/16 [==============================] - 1s 41ms/step - loss: 2.2423 - accuracy: 0.2968 - val_loss: 2.1877 - val_accuracy: 0.1548\n",
      "Epoch 12/70\n",
      "16/16 [==============================] - 1s 44ms/step - loss: 2.0221 - accuracy: 0.3409 - val_loss: 2.1712 - val_accuracy: 0.1310\n",
      "Epoch 13/70\n",
      "16/16 [==============================] - 1s 41ms/step - loss: 2.1314 - accuracy: 0.3029 - val_loss: 2.1485 - val_accuracy: 0.1429\n",
      "Epoch 14/70\n",
      "16/16 [==============================] - 1s 42ms/step - loss: 2.0365 - accuracy: 0.3050 - val_loss: 2.1782 - val_accuracy: 0.1250\n",
      "Epoch 15/70\n",
      "16/16 [==============================] - 1s 41ms/step - loss: 1.8725 - accuracy: 0.3564 - val_loss: 2.2059 - val_accuracy: 0.1607\n",
      "Epoch 16/70\n",
      "16/16 [==============================] - 1s 43ms/step - loss: 1.8110 - accuracy: 0.3771 - val_loss: 2.1382 - val_accuracy: 0.1250\n",
      "Epoch 17/70\n",
      "16/16 [==============================] - 1s 47ms/step - loss: 1.7974 - accuracy: 0.3875 - val_loss: 2.2952 - val_accuracy: 0.1250\n",
      "Epoch 18/70\n",
      "16/16 [==============================] - 1s 53ms/step - loss: 1.8469 - accuracy: 0.3249 - val_loss: 2.2304 - val_accuracy: 0.1250\n",
      "Epoch 19/70\n",
      "16/16 [==============================] - 1s 54ms/step - loss: 1.6824 - accuracy: 0.3577 - val_loss: 2.2780 - val_accuracy: 0.1429\n",
      "Epoch 20/70\n",
      "16/16 [==============================] - 1s 54ms/step - loss: 1.8866 - accuracy: 0.3603 - val_loss: 2.1895 - val_accuracy: 0.1786\n",
      "Epoch 21/70\n",
      "16/16 [==============================] - 1s 42ms/step - loss: 1.7093 - accuracy: 0.4047 - val_loss: 2.2153 - val_accuracy: 0.1786\n",
      "Epoch 22/70\n",
      "16/16 [==============================] - 1s 43ms/step - loss: 1.6431 - accuracy: 0.4284 - val_loss: 2.1287 - val_accuracy: 0.1667\n",
      "Epoch 23/70\n",
      "16/16 [==============================] - 1s 48ms/step - loss: 1.5404 - accuracy: 0.4537 - val_loss: 2.2574 - val_accuracy: 0.1488\n",
      "Epoch 24/70\n",
      "16/16 [==============================] - 1s 42ms/step - loss: 1.5622 - accuracy: 0.4215 - val_loss: 2.1594 - val_accuracy: 0.1905\n",
      "Epoch 25/70\n",
      "16/16 [==============================] - 1s 42ms/step - loss: 1.5784 - accuracy: 0.4313 - val_loss: 2.1225 - val_accuracy: 0.1726\n",
      "Epoch 26/70\n",
      "16/16 [==============================] - 1s 43ms/step - loss: 1.4719 - accuracy: 0.4454 - val_loss: 2.1006 - val_accuracy: 0.1845\n",
      "Epoch 27/70\n",
      "16/16 [==============================] - 1s 43ms/step - loss: 1.4943 - accuracy: 0.4592 - val_loss: 2.0797 - val_accuracy: 0.2024\n",
      "Epoch 28/70\n",
      "16/16 [==============================] - 1s 45ms/step - loss: 1.4657 - accuracy: 0.4808 - val_loss: 2.1027 - val_accuracy: 0.2024\n",
      "Epoch 29/70\n",
      "16/16 [==============================] - 1s 47ms/step - loss: 1.5199 - accuracy: 0.4949 - val_loss: 2.1069 - val_accuracy: 0.1786\n",
      "Epoch 30/70\n",
      "16/16 [==============================] - 1s 45ms/step - loss: 1.4905 - accuracy: 0.4764 - val_loss: 2.0800 - val_accuracy: 0.1786\n",
      "Epoch 31/70\n",
      "16/16 [==============================] - 1s 46ms/step - loss: 1.3140 - accuracy: 0.5133 - val_loss: 2.0029 - val_accuracy: 0.2381\n",
      "Epoch 32/70\n",
      "16/16 [==============================] - 1s 44ms/step - loss: 1.3940 - accuracy: 0.4985 - val_loss: 1.9223 - val_accuracy: 0.2857\n",
      "Epoch 33/70\n",
      "16/16 [==============================] - 1s 44ms/step - loss: 1.3768 - accuracy: 0.4984 - val_loss: 1.9496 - val_accuracy: 0.2440\n",
      "Epoch 34/70\n",
      "16/16 [==============================] - 1s 44ms/step - loss: 1.3698 - accuracy: 0.5089 - val_loss: 1.7851 - val_accuracy: 0.3095\n",
      "Epoch 35/70\n",
      "16/16 [==============================] - 1s 44ms/step - loss: 1.2952 - accuracy: 0.5457 - val_loss: 1.8081 - val_accuracy: 0.3214\n",
      "Epoch 36/70\n",
      "16/16 [==============================] - 1s 44ms/step - loss: 1.1755 - accuracy: 0.5910 - val_loss: 1.6891 - val_accuracy: 0.3690\n",
      "Epoch 37/70\n",
      "16/16 [==============================] - 1s 45ms/step - loss: 1.2242 - accuracy: 0.5512 - val_loss: 1.6568 - val_accuracy: 0.4107\n",
      "Epoch 38/70\n",
      "16/16 [==============================] - 1s 45ms/step - loss: 1.3570 - accuracy: 0.5209 - val_loss: 1.5754 - val_accuracy: 0.4226\n",
      "Epoch 39/70\n",
      "16/16 [==============================] - 1s 45ms/step - loss: 1.2510 - accuracy: 0.5630 - val_loss: 1.5201 - val_accuracy: 0.4702\n",
      "Epoch 40/70\n",
      "16/16 [==============================] - 1s 45ms/step - loss: 1.2829 - accuracy: 0.5545 - val_loss: 1.5760 - val_accuracy: 0.4762\n",
      "Epoch 41/70\n",
      "16/16 [==============================] - 1s 43ms/step - loss: 1.1329 - accuracy: 0.6091 - val_loss: 1.4657 - val_accuracy: 0.5000\n",
      "Epoch 42/70\n",
      "16/16 [==============================] - 1s 44ms/step - loss: 1.1344 - accuracy: 0.5881 - val_loss: 1.4388 - val_accuracy: 0.5179\n",
      "Epoch 43/70\n",
      "16/16 [==============================] - 1s 44ms/step - loss: 1.0592 - accuracy: 0.6073 - val_loss: 1.4018 - val_accuracy: 0.5536\n",
      "Epoch 44/70\n",
      "16/16 [==============================] - 1s 55ms/step - loss: 1.0515 - accuracy: 0.6386 - val_loss: 1.3568 - val_accuracy: 0.5952\n",
      "Epoch 45/70\n",
      "16/16 [==============================] - 1s 58ms/step - loss: 1.0491 - accuracy: 0.6132 - val_loss: 1.4084 - val_accuracy: 0.5774\n",
      "Epoch 46/70\n",
      "16/16 [==============================] - 1s 61ms/step - loss: 1.1773 - accuracy: 0.5744 - val_loss: 1.4390 - val_accuracy: 0.5595\n",
      "Epoch 47/70\n",
      "16/16 [==============================] - 1s 53ms/step - loss: 1.1175 - accuracy: 0.6194 - val_loss: 1.3974 - val_accuracy: 0.5655\n",
      "Epoch 48/70\n",
      "16/16 [==============================] - 1s 44ms/step - loss: 1.1321 - accuracy: 0.5652 - val_loss: 1.4117 - val_accuracy: 0.5833\n",
      "Epoch 49/70\n",
      "16/16 [==============================] - 1s 44ms/step - loss: 1.0636 - accuracy: 0.5828 - val_loss: 1.3459 - val_accuracy: 0.5893\n",
      "Epoch 50/70\n",
      "16/16 [==============================] - 1s 45ms/step - loss: 0.9842 - accuracy: 0.6325 - val_loss: 1.3751 - val_accuracy: 0.5833\n",
      "Epoch 51/70\n",
      "16/16 [==============================] - 1s 44ms/step - loss: 0.8263 - accuracy: 0.7108 - val_loss: 1.4213 - val_accuracy: 0.6012\n",
      "Epoch 52/70\n",
      "16/16 [==============================] - 1s 44ms/step - loss: 0.7940 - accuracy: 0.6806 - val_loss: 1.4324 - val_accuracy: 0.5952\n",
      "Epoch 53/70\n",
      "16/16 [==============================] - 1s 44ms/step - loss: 0.9228 - accuracy: 0.6691 - val_loss: 1.3044 - val_accuracy: 0.6548\n",
      "Epoch 54/70\n",
      "16/16 [==============================] - 1s 43ms/step - loss: 0.9334 - accuracy: 0.6657 - val_loss: 1.4130 - val_accuracy: 0.6429\n",
      "Epoch 55/70\n",
      "16/16 [==============================] - 1s 46ms/step - loss: 1.0408 - accuracy: 0.6284 - val_loss: 1.2515 - val_accuracy: 0.6548\n",
      "Epoch 56/70\n",
      "16/16 [==============================] - 1s 43ms/step - loss: 0.8975 - accuracy: 0.6913 - val_loss: 1.5334 - val_accuracy: 0.6488\n",
      "Epoch 57/70\n",
      "16/16 [==============================] - 1s 43ms/step - loss: 0.7026 - accuracy: 0.7716 - val_loss: 1.5001 - val_accuracy: 0.6488\n",
      "Epoch 58/70\n",
      "16/16 [==============================] - 1s 49ms/step - loss: 0.8519 - accuracy: 0.7085 - val_loss: 1.3316 - val_accuracy: 0.6488\n"
     ]
    },
    {
     "name": "stdout",
     "output_type": "stream",
     "text": [
      "Epoch 59/70\n",
      "16/16 [==============================] - 1s 40ms/step - loss: 0.7720 - accuracy: 0.6804 - val_loss: 1.4168 - val_accuracy: 0.7083\n",
      "Epoch 60/70\n",
      "16/16 [==============================] - 1s 41ms/step - loss: 0.7586 - accuracy: 0.7665 - val_loss: 1.3208 - val_accuracy: 0.6964\n",
      "Epoch 61/70\n",
      "16/16 [==============================] - 1s 41ms/step - loss: 0.7712 - accuracy: 0.7290 - val_loss: 1.4943 - val_accuracy: 0.6786\n",
      "Epoch 62/70\n",
      "16/16 [==============================] - 1s 42ms/step - loss: 0.7374 - accuracy: 0.7642 - val_loss: 1.4990 - val_accuracy: 0.6964\n",
      "Epoch 63/70\n",
      "16/16 [==============================] - 1s 41ms/step - loss: 0.7773 - accuracy: 0.7339 - val_loss: 1.2849 - val_accuracy: 0.6786\n",
      "Epoch 64/70\n",
      "16/16 [==============================] - 1s 42ms/step - loss: 0.8206 - accuracy: 0.7066 - val_loss: 1.4107 - val_accuracy: 0.6548\n",
      "Epoch 65/70\n",
      "16/16 [==============================] - 1s 42ms/step - loss: 0.7296 - accuracy: 0.7496 - val_loss: 1.3356 - val_accuracy: 0.7440\n",
      "Epoch 66/70\n",
      "16/16 [==============================] - 1s 41ms/step - loss: 0.7387 - accuracy: 0.7509 - val_loss: 1.2507 - val_accuracy: 0.6964\n",
      "Epoch 67/70\n",
      "16/16 [==============================] - 1s 41ms/step - loss: 0.7092 - accuracy: 0.7489 - val_loss: 1.3634 - val_accuracy: 0.7202\n",
      "Epoch 68/70\n",
      "16/16 [==============================] - 1s 41ms/step - loss: 0.7492 - accuracy: 0.7312 - val_loss: 1.4295 - val_accuracy: 0.6786\n",
      "Epoch 69/70\n",
      "16/16 [==============================] - 1s 41ms/step - loss: 0.6151 - accuracy: 0.7850 - val_loss: 1.3445 - val_accuracy: 0.7619\n",
      "Epoch 70/70\n",
      "16/16 [==============================] - 1s 42ms/step - loss: 0.6286 - accuracy: 0.7757 - val_loss: 1.1903 - val_accuracy: 0.7500\n"
     ]
    }
   ],
   "source": [
    "history = model1.fit(X_train,Y_train,validation_data=(X_test,Y_test),epochs=70,callbacks=[tensorboard])"
   ]
  },
  {
   "cell_type": "code",
   "execution_count": 186,
   "metadata": {},
   "outputs": [
    {
     "data": {
      "image/png": "[encoded data removed]",
      "text/plain": [
       "<Figure size 432x288 with 1 Axes>"
      ]
     },
     "metadata": {
      "needs_background": "light"
     },
     "output_type": "display_data"
    }
   ],
   "source": [
    "plt.plot(history.history['accuracy'])\n",
    "plt.plot(history.history['val_accuracy'])\n",
    "plt.title('model accuracy')\n",
    "plt.ylabel('accuracy')\n",
    "plt.xlabel('epoch')\n",
    "plt.legend(['train', 'val'], loc='upper left')\n",
    "plt.savefig('Video_Kannada Model accuracy.jpg')\n",
    "plt.show()"
   ]
  },
  {
   "cell_type": "code",
   "execution_count": 187,
   "metadata": {},
   "outputs": [
    {
     "data": {
      "image/png": "[encoded data removed]",
      "text/plain": [
       "<Figure size 432x288 with 1 Axes>"
      ]
     },
     "metadata": {
      "needs_background": "light"
     },
     "output_type": "display_data"
    }
   ],
   "source": [
    "plt.plot(history.history['loss'])\n",
    "plt.plot(history.history['val_loss'])\n",
    "plt.title('model loss')\n",
    "plt.ylabel('accuracy')\n",
    "plt.xlabel('epochs')\n",
    "plt.legend(['train_loss', 'val_loss'], loc='upper right')\n",
    "plt.savefig('Video_Kannada Model Loss.jpg')\n",
    "plt.show()"
   ]
  },
  {
   "cell_type": "code",
   "execution_count": 188,
   "metadata": {},
   "outputs": [
    {
     "name": "stdout",
     "output_type": "stream",
     "text": [
      "6/6 [==============================] - 0s 11ms/step - loss: 1.1903 - accuracy: 0.7500\n"
     ]
    }
   ],
   "source": [
    "predict_prob=model1.predict(X_test)\n",
    "predict_classes=np.argmax(predict_prob,axis=1)\n",
    "predict_classes\n",
    "score, acc = model1.evaluate(X_test, Y_test)"
   ]
  },
  {
   "cell_type": "code",
   "execution_count": 191,
   "metadata": {},
   "outputs": [
    {
     "data": {
      "image/png": "[encoded data removed]",
      "text/plain": [
       "<Figure size 720x576 with 2 Axes>"
      ]
     },
     "metadata": {
      "needs_background": "light"
     },
     "output_type": "display_data"
    }
   ],
   "source": [
    "y_val1 = list()\n",
    "for i in Y_test:\n",
    "    count = 0\n",
    "    for j in i:\n",
    "        if( j == 1):\n",
    "            y_val1.append(count);\n",
    "        count +=1;\n",
    "from sklearn.preprocessing import LabelEncoder\n",
    "from keras.models import load_model\n",
    "from sklearn.metrics import accuracy_score, confusion_matrix, precision_recall_fscore_support\n",
    "import seaborn as sns\n",
    "words_list = ['Avanu','Bagge','Bari', 'Howdu','Illa', 'Janarige', 'Kathe', 'Nale']\n",
    "lb = LabelEncoder()\n",
    "y_pred = lb_make.fit_transform(predict_classes)\n",
    "Y_Test = lb_make.fit_transform(y_val1)\n",
    "cm = confusion_matrix(Y_Test, y_pred)\n",
    "cm_df = pd.DataFrame(cm,index =words_list,columns = words_list)\n",
    "plt.figure(figsize=(10,8))\n",
    "sns.heatmap(cm_df, annot=True, cmap=\"Blues\")\n",
    "plt.title('Test accuracy of Kannada dataset {}'.format(acc))\n",
    "plt.ylabel('True label')\n",
    "plt.xlabel('Predicted label')\n",
    "plt.savefig('Video_Kannada Confusion Matrix.jpg')\n",
    "plt.show()"
   ]
  },
  {
   "cell_type": "code",
   "execution_count": 192,
   "metadata": {},
   "outputs": [
    {
     "name": "stdout",
     "output_type": "stream",
     "text": [
      "              precision    recall  f1-score   support\n",
      "\n",
      "       Avanu       0.92      0.57      0.71        21\n",
      "       Bagge       0.85      0.81      0.83        21\n",
      "        Bari       0.72      0.86      0.78        21\n",
      "       Howdu       0.82      0.86      0.84        21\n",
      "        Illa       0.73      0.76      0.74        21\n",
      "    Janarige       0.88      0.71      0.79        21\n",
      "       Kathe       0.62      0.62      0.62        21\n",
      "        Nale       0.61      0.81      0.69        21\n",
      "\n",
      "    accuracy                           0.75       168\n",
      "   macro avg       0.77      0.75      0.75       168\n",
      "weighted avg       0.77      0.75      0.75       168\n",
      "\n"
     ]
    }
   ],
   "source": [
    "from sklearn.metrics import classification_report\n",
    "y_pred = lb_make.fit_transform(predict_classes)\n",
    "Y_Test = lb_make.fit_transform(Y_Test)\n",
    "print(classification_report(Y_Test, y_pred, target_names=words_list))"
   ]
  },
  {
   "cell_type": "code",
   "execution_count": null,
   "metadata": {
    "colab": {
     "base_uri": "https://localhost:8080/",
     "height": 71
    },
    "id": "cQJeprKVfhfu",
    "outputId": "d1ee24a4-fdd0-49ad-fa13-a918c3839a56"
   },
   "outputs": [],
   "source": [
    "from keras.models import load_model\n",
    "from sklearn.metrics import accuracy_score, confusion_matrix, precision_recall_fscore_support\n",
    "import seaborn as sns\n",
    "model1.save('kannada_model_video_v1.h5')#creates a HDF5 file 'my_model.h5'\n"
   ]
  },
  {
   "cell_type": "code",
   "execution_count": null,
   "metadata": {
    "id": "PWs1yfwhcSfU"
   },
   "outputs": [],
   "source": [
    "model_json = model1.to_json()\n",
    "with open(\"model.json\", \"w\") as json_file:\n",
    "    json_file.write(model_json)"
   ]
  },
  {
   "cell_type": "code",
   "execution_count": null,
   "metadata": {
    "id": "ht0d5UoZXP7S"
   },
   "outputs": [],
   "source": []
  }
 ],
 "metadata": {
  "colab": {
   "collapsed_sections": [],
   "name": "output_copy_testing.ipynb",
   "provenance": []
  },
  "kernelspec": {
   "display_name": "Python 3",
   "language": "python",
   "name": "python3"
  },
  "language_info": {
   "codemirror_mode": {
    "name": "ipython",
    "version": 3
   },
   "file_extension": ".py",
   "mimetype": "text/x-python",
   "name": "python",
   "nbconvert_exporter": "python",
   "pygments_lexer": "ipython3",
   "version": "3.6.9"
  }
 },
 "nbformat": 4,
 "nbformat_minor": 1
}
